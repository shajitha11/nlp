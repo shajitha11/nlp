{
 "cells": [
  {
   "cell_type": "code",
   "execution_count": 1,
   "id": "816c7e16",
   "metadata": {},
   "outputs": [],
   "source": [
    "import spacy "
   ]
  },
  {
   "cell_type": "code",
   "execution_count": 2,
   "id": "af7723d6",
   "metadata": {},
   "outputs": [],
   "source": [
    "nlp=spacy.load(\"en_core_web_sm\")"
   ]
  },
  {
   "cell_type": "code",
   "execution_count": 7,
   "id": "480adee0",
   "metadata": {},
   "outputs": [
    {
     "name": "stdout",
     "output_type": "stream",
     "text": [
      "--Tokens--\n",
      "['NLP', ',', 'or', 'Natural', 'Language', 'Processing', ',', 'is', 'a', 'field', 'of', 'Artificial', 'Intelligence', 'that', 'enables', 'computers', 'to', 'understand', ',', 'interpret', ',', 'and', 'manipulate', 'human', 'language', '.', 'It', 'uses', 'machine', 'learning', 'to', 'process', 'both', 'written', 'text', 'and', 'spoken', 'language', ',', 'allowing', 'machines', 'to', 'perform', 'tasks', 'like', 'sentiment', 'analysis', ',', 'translation', ',', 'and', 'summarizing', '.', 'For', 'example', ',', 'NLP', 'powers', 'chatbots', ',', 'voice', 'assistants', ',', 'and', 'tools', 'that', 'analyze', 'customer', 'feedback', 'by', 'interpreting', 'the', 'meaning', 'behind', 'human', 'communication', '.']\n",
      "--stopwords removed--\n",
      "NLP Natural Language Processing field Artificial Intelligence enables computers understand interpret manipulate human language uses machine learning process written text spoken language allowing machines perform tasks like sentiment analysis translation summarizing example NLP powers chatbots voice assistants tools analyze customer feedback interpreting meaning human communication\n",
      "--lemmatized words--\n",
      "NLP Natural Language Processing field Artificial Intelligence enable computer understand interpret manipulate human language use machine learn process write text speak language allow machine perform task like sentiment analysis translation summarizing example NLP power chatbot voice assistant tool analyze customer feedback interpret meaning human communication\n"
     ]
    }
   ],
   "source": [
    "text=\"NLP,or Natural Language Processing, is a field of Artificial Intelligence that enables computers to understand, interpret, and manipulate human language. It uses machine learning to process both written text and spoken language, allowing machines to perform tasks like sentiment analysis, translation, and summarizing. For example, NLP powers chatbots, voice assistants, and tools that analyze customer feedback by interpreting the meaning behind human communication.\"\n",
    "doc=nlp(text)\n",
    "\n",
    "#tokenization\n",
    "token_seq=([token.text for token in doc])\n",
    "print(\"--Tokens--\")\n",
    "print(token_seq)\n",
    "\n",
    "#stop words removed\n",
    "filtered_text=\" \".join([token.text for token in doc if not token.is_stop and not token.is_punct])\n",
    "print(\"--stopwords removed--\")\n",
    "print(filtered_text)\n",
    "\n",
    "#lemmatization\n",
    "root_words=\" \".join([token.lemma_ for token in doc if not token.is_stop and not token.is_punct])\n",
    "print(\"--lemmatized words--\")\n",
    "print(root_words)"
   ]
  },
  {
   "cell_type": "code",
   "execution_count": 8,
   "id": "41062a8c",
   "metadata": {},
   "outputs": [
    {
     "name": "stdout",
     "output_type": "stream",
     "text": [
      "Ing : PERSON\n",
      "F. Porsche AG : ORG\n",
      "Porsche : ORG\n",
      "German : NORP\n",
      "Stuttgart : GPE\n",
      "Baden-Württemberg : GPE\n",
      "Germany : GPE\n"
     ]
    }
   ],
   "source": [
    "#name entity rg\n",
    "text=\"Dr. Ing. h.c. F. Porsche AG, usually shortened to Porsche, is a German automobile manufacturer specializing in luxury, high-performance sports cars, SUVs and sedans, headquartered in Stuttgart, Baden-Württemberg, Germany.\"\n",
    "doc=nlp(text)\n",
    "\n",
    "for ent in doc.ents:\n",
    "    print(ent.text,\":\",ent.label_)"
   ]
  },
  {
   "cell_type": "code",
   "execution_count": 12,
   "id": "5cec1a8d",
   "metadata": {},
   "outputs": [
    {
     "name": "stdout",
     "output_type": "stream",
     "text": [
      "self:3\n",
      "love:2\n",
      "involves:2\n"
     ]
    }
   ],
   "source": [
    "#counting freq word\n",
    "from collections import Counter\n",
    "text=\"Self-love is a state of appreciation for oneself that involves prioritizing your physical, psychological, and spiritual well-being. It means accepting yourself completely, including your flaws, while treating yourself with kindness, compassion, and respect, especially during difficult times. Practicing self-love is an ongoing journey that involves setting boundaries, forgiving yourself for mistakes, and cultivating a positive inner dialogue, which in turn builds self-confidence and happiness.\"\n",
    "doc=nlp(text)\n",
    "\n",
    "words=[token.text.lower()for token in doc if not token.is_stop and not token.is_punct]\n",
    "word_freq=Counter(words)\n",
    "\n",
    "for word,freq in word_freq.items():\n",
    "    if freq>1:\n",
    "        print(f\"{word}:{freq}\")"
   ]
  }
 ],
 "metadata": {
  "kernelspec": {
   "display_name": "Python 3",
   "language": "python",
   "name": "python3"
  },
  "language_info": {
   "codemirror_mode": {
    "name": "ipython",
    "version": 3
   },
   "file_extension": ".py",
   "mimetype": "text/x-python",
   "name": "python",
   "nbconvert_exporter": "python",
   "pygments_lexer": "ipython3",
   "version": "3.10.10"
  }
 },
 "nbformat": 4,
 "nbformat_minor": 5
}
